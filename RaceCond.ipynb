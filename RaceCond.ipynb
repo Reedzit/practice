{
  "nbformat": 4,
  "nbformat_minor": 0,
  "metadata": {
    "colab": {
      "provenance": [],
      "include_colab_link": true
    },
    "kernelspec": {
      "name": "python3",
      "display_name": "Python 3"
    },
    "language_info": {
      "name": "python"
    }
  },
  "cells": [
    {
      "cell_type": "markdown",
      "metadata": {
        "id": "view-in-github",
        "colab_type": "text"
      },
      "source": [
        "<a href=\"https://colab.research.google.com/github/Reedzit/practice/blob/main/RaceCond.ipynb\" target=\"_parent\"><img src=\"https://colab.research.google.com/assets/colab-badge.svg\" alt=\"Open In Colab\"/></a>"
      ]
    },
    {
      "cell_type": "code",
      "execution_count": 1,
      "metadata": {
        "id": "ChIqAevPNvg5"
      },
      "outputs": [],
      "source": [
        "import threading\n",
        "import time"
      ]
    },
    {
      "cell_type": "code",
      "source": [
        "def thread_function():\n",
        "  print('Hello')"
      ],
      "metadata": {
        "id": "eltp6lktqqSc"
      },
      "execution_count": 4,
      "outputs": []
    },
    {
      "cell_type": "code",
      "source": [
        "x = threading.Thread(target = thread_function)\n",
        "x.start()\n",
        "print(\"Main\")\n",
        "x.join()"
      ],
      "metadata": {
        "colab": {
          "base_uri": "https://localhost:8080/"
        },
        "id": "Qsqr2VBzqf__",
        "outputId": "638dd91f-6d80-4225-d9e8-f17d3cad7fe9"
      },
      "execution_count": 6,
      "outputs": [
        {
          "output_type": "stream",
          "name": "stdout",
          "text": [
            "helloMain\n",
            "\n"
          ]
        }
      ]
    },
    {
      "cell_type": "code",
      "source": [
        "def expensive_function():\n",
        "  time.sleep(0.1)\n",
        "\n",
        "start = time.time()\n",
        "for i in range(10):\n",
        "  expensive_function()\n",
        "duration = time.time() - start\n",
        "print(f\"operation took {duration} seconds\")"
      ],
      "metadata": {
        "colab": {
          "base_uri": "https://localhost:8080/"
        },
        "id": "YF-IP5B9rMZC",
        "outputId": "6063968f-57a2-466a-ef7c-fb01b80a466e"
      },
      "execution_count": 7,
      "outputs": [
        {
          "output_type": "stream",
          "name": "stdout",
          "text": [
            "operation took 1.0023694038391113 seconds\n"
          ]
        }
      ]
    },
    {
      "cell_type": "code",
      "source": [
        "threads = list()\n",
        "\n",
        "start = time.time()\n",
        "for index in range(10):\n",
        "  x = threading.Thread(target = expensive_function)\n",
        "  threads.append(x)\n",
        "  x.start()\n",
        "\n",
        "for index in range(10):\n",
        "  threads[index].join()\n",
        "\n",
        "  duration = time.time() - start\n",
        "print(f\"operation took {duration} seconds\")"
      ],
      "metadata": {
        "colab": {
          "base_uri": "https://localhost:8080/"
        },
        "id": "RpgKjLSqroaR",
        "outputId": "7679a831-d213-441f-e3f9-b948018c4c54"
      },
      "execution_count": 8,
      "outputs": [
        {
          "output_type": "stream",
          "name": "stdout",
          "text": [
            "operation took 0.10531139373779297 seconds\n"
          ]
        }
      ]
    },
    {
      "cell_type": "markdown",
      "source": [
        "# Race Condition"
      ],
      "metadata": {
        "id": "BQ74ncrcsI8G"
      }
    },
    {
      "cell_type": "code",
      "source": [
        "class FakeDatabase:\n",
        "  def __init__(self):\n",
        "    self.value = 0\n",
        "    self.lock = threading.Lock() # using a lock makes it work.\n",
        "\n",
        "  def expensive_operation(self):\n",
        "    with self.lock:\n",
        "      local_copy = self.value\n",
        "      time.sleep(0.1) # expensive work\n",
        "      self.value = local_copy + 1 #each thread is reading 0 and adding 1 each time through so it does not add to each other."
      ],
      "metadata": {
        "id": "Xk7T-zGTN2hw"
      },
      "execution_count": 15,
      "outputs": []
    },
    {
      "cell_type": "code",
      "source": [
        "def thread_function(database):\n",
        "  for i in range(3):\n",
        "    database.expensive_operation()"
      ],
      "metadata": {
        "id": "qtFh0CSqQN4N"
      },
      "execution_count": 16,
      "outputs": []
    },
    {
      "cell_type": "code",
      "source": [
        "database = FakeDatabase()\n",
        "threads = list()\n",
        "print(f\"database.value is {database.value}\")\n",
        "\n",
        "for index in range(3):\n",
        "  new_thread = threading.Thread(target=thread_function, args=(database,))\n",
        "  threads.append(new_thread)\n",
        "  new_thread.start()\n",
        "\n",
        "for index, thread in enumerate(threads):\n",
        "  thread.join()\n",
        "\n",
        "print(f\"database.value is {database.value}\")"
      ],
      "metadata": {
        "id": "uedVFEcOOrDR",
        "colab": {
          "base_uri": "https://localhost:8080/"
        },
        "outputId": "73790cce-4fb1-4032-f5b5-61732b03627e"
      },
      "execution_count": 17,
      "outputs": [
        {
          "output_type": "stream",
          "name": "stdout",
          "text": [
            "database.value is 0\n",
            "database.value is 9\n"
          ]
        }
      ]
    }
  ]
}